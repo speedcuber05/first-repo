{
 "cells": [
  {
   "cell_type": "code",
   "execution_count": 1,
   "id": "d2f56ae5",
   "metadata": {},
   "outputs": [],
   "source": [
    "import numpy as np\n",
    "import math\n",
    "import scipy\n",
    "import sympy "
   ]
  },
  {
   "cell_type": "code",
   "execution_count": 2,
   "id": "a6322e4b",
   "metadata": {},
   "outputs": [
    {
     "name": "stdout",
     "output_type": "stream",
     "text": [
      "2.8284271247461903\n",
      "2*sqrt(2)\n"
     ]
    }
   ],
   "source": [
    "print(math.sqrt(8))\n",
    "print(sympy.sqrt(8))"
   ]
  },
  {
   "cell_type": "code",
   "execution_count": 3,
   "id": "60cce295",
   "metadata": {},
   "outputs": [
    {
     "data": {
      "text/latex": [
       "$\\displaystyle 2.82842712474619$"
      ],
      "text/plain": [
       "2.82842712474619"
      ]
     },
     "execution_count": 3,
     "metadata": {},
     "output_type": "execute_result"
    }
   ],
   "source": [
    "sympy.sqrt(8).evalf()"
   ]
  },
  {
   "cell_type": "code",
   "execution_count": 4,
   "id": "aed6ba57",
   "metadata": {},
   "outputs": [
    {
     "name": "stdout",
     "output_type": "stream",
     "text": [
      "x + 3*y\n"
     ]
    }
   ],
   "source": [
    "x,y=sympy.symbols('x y')\n",
    "expr= x + 3*y\n",
    "print(expr)"
   ]
  },
  {
   "cell_type": "code",
   "execution_count": 5,
   "id": "43c398af",
   "metadata": {},
   "outputs": [
    {
     "name": "stdout",
     "output_type": "stream",
     "text": [
      "x + 3*y + 1\n"
     ]
    }
   ],
   "source": [
    "print(expr + 1)"
   ]
  },
  {
   "cell_type": "code",
   "execution_count": 6,
   "id": "9710f0fa",
   "metadata": {},
   "outputs": [
    {
     "name": "stdout",
     "output_type": "stream",
     "text": [
      "3*y\n"
     ]
    }
   ],
   "source": [
    "print(expr - x)"
   ]
  },
  {
   "cell_type": "code",
   "execution_count": 7,
   "id": "3f9acee8",
   "metadata": {},
   "outputs": [
    {
     "name": "stdout",
     "output_type": "stream",
     "text": [
      "11\n"
     ]
    }
   ],
   "source": [
    "print(expr.subs({x:2, y:3}))"
   ]
  },
  {
   "cell_type": "code",
   "execution_count": 8,
   "id": "b13af3e5",
   "metadata": {},
   "outputs": [
    {
     "name": "stdout",
     "output_type": "stream",
     "text": [
      "x*(x + 3*y)\n"
     ]
    }
   ],
   "source": [
    "print(x*expr)"
   ]
  },
  {
   "cell_type": "code",
   "execution_count": 9,
   "id": "156a88b0",
   "metadata": {},
   "outputs": [
    {
     "name": "stdout",
     "output_type": "stream",
     "text": [
      "x**2 + 3*x*y\n"
     ]
    }
   ],
   "source": [
    "print(sympy.expand(x*expr))"
   ]
  },
  {
   "cell_type": "code",
   "execution_count": 10,
   "id": "8750b0b7",
   "metadata": {},
   "outputs": [
    {
     "name": "stdout",
     "output_type": "stream",
     "text": [
      "x t z nu\n"
     ]
    }
   ],
   "source": [
    "x,t,z,nu = sympy.symbols('x t z nu')\n",
    "print(x,t,z,nu)"
   ]
  },
  {
   "cell_type": "code",
   "execution_count": 11,
   "id": "9c17442a",
   "metadata": {},
   "outputs": [
    {
     "data": {
      "image/png": "[encoded data removed]",
      "text/latex": [
       "$\\displaystyle x^{2}$"
      ],
      "text/plain": [
       " 2\n",
       "x "
      ]
     },
     "metadata": {},
     "output_type": "display_data"
    },
    {
     "data": {
      "image/png": "[encoded data removed]",
      "text/latex": [
       "$\\displaystyle t$"
      ],
      "text/plain": [
       "t"
      ]
     },
     "metadata": {},
     "output_type": "display_data"
    },
    {
     "data": {
      "image/png": "[encoded data removed]",
      "text/latex": [
       "$\\displaystyle z$"
      ],
      "text/plain": [
       "z"
      ]
     },
     "metadata": {},
     "output_type": "display_data"
    },
    {
     "data": {
      "image/png": "[encoded data removed]",
      "text/latex": [
       "$\\displaystyle \\nu$"
      ],
      "text/plain": [
       "ν"
      ]
     },
     "metadata": {},
     "output_type": "display_data"
    }
   ],
   "source": [
    "sympy.init_printing(use_unicode=True)\n",
    "display(x**2,t,z,nu)"
   ]
  },
  {
   "cell_type": "code",
   "execution_count": 12,
   "id": "43e990c8",
   "metadata": {},
   "outputs": [
    {
     "data": {
      "image/png": "[encoded data removed]",
      "text/latex": [
       "$\\displaystyle \\frac{x^{\\sin{\\left(x^{2} \\right)}} \\left(2 x \\log{\\left(x \\right)} \\cos{\\left(x^{2} \\right)} + \\frac{\\sin{\\left(x^{2} \\right)}}{x}\\right)}{\\tanh{\\left(x \\right)}} + \\frac{x^{\\sin{\\left(x^{2} \\right)}} \\left(\\tanh^{2}{\\left(x \\right)} - 1\\right)}{\\tanh^{2}{\\left(x \\right)}}$"
      ],
      "text/plain": [
       "    ⎛ 2⎞ ⎛                        ⎛ 2⎞⎞                          \n",
       " sin⎝x ⎠ ⎜              ⎛ 2⎞   sin⎝x ⎠⎟       ⎛ 2⎞               \n",
       "x       ⋅⎜2⋅x⋅log(x)⋅cos⎝x ⎠ + ───────⎟    sin⎝x ⎠ ⎛    2       ⎞\n",
       "         ⎝                        x   ⎠   x       ⋅⎝tanh (x) - 1⎠\n",
       "─────────────────────────────────────── + ───────────────────────\n",
       "                tanh(x)                              2           \n",
       "                                                 tanh (x)        "
      ]
     },
     "execution_count": 12,
     "metadata": {},
     "output_type": "execute_result"
    }
   ],
   "source": [
    "sympy.diff(x**sympy.sin(x**2)/sympy.tanh(x),x)"
   ]
  },
  {
   "cell_type": "code",
   "execution_count": 13,
   "id": "a24c18b2",
   "metadata": {},
   "outputs": [],
   "source": [
    "f , g =sympy.symbols('f g', cls=sympy.Function)\n",
    "fun= f(x*g(x))\n"
   ]
  },
  {
   "cell_type": "code",
   "execution_count": 14,
   "id": "ad4a1a3a",
   "metadata": {},
   "outputs": [
    {
     "data": {
      "image/png": "[encoded data removed]",
      "text/latex": [
       "$\\displaystyle x \\cos{\\left(x \\right)} + \\sin{\\left(x \\right)}$"
      ],
      "text/plain": [
       "x⋅cos(x) + sin(x)"
      ]
     },
     "execution_count": 14,
     "metadata": {},
     "output_type": "execute_result"
    }
   ],
   "source": [
    "dfdx=sympy.diff(fun,x)\n",
    "dfdx.subs({g(x):sympy.sin(x) , f : sympy.Lambda (z , z)}).doit()\n"
   ]
  },
  {
   "cell_type": "code",
   "execution_count": 15,
   "id": "758cf73e",
   "metadata": {},
   "outputs": [
    {
     "data": {
      "image/png": "[encoded data removed]",
      "text/latex": [
       "$\\displaystyle e^{x}$"
      ],
      "text/plain": [
       " x\n",
       "ℯ "
      ]
     },
     "execution_count": 15,
     "metadata": {},
     "output_type": "execute_result"
    }
   ],
   "source": [
    "sympy.integrate(sympy.exp(x),x)"
   ]
  },
  {
   "cell_type": "code",
   "execution_count": 16,
   "id": "6c324ec3",
   "metadata": {},
   "outputs": [
    {
     "data": {
      "image/png": "[encoded data removed]",
      "text/latex": [
       "$\\displaystyle \\frac{\\sqrt{2} \\sqrt{\\pi}}{4}$"
      ],
      "text/plain": [
       "√2⋅√π\n",
       "─────\n",
       "  4  "
      ]
     },
     "execution_count": 16,
     "metadata": {},
     "output_type": "execute_result"
    }
   ],
   "source": [
    "sympy.integrate(sympy.sin(x**2),(x,0,sympy.oo))\n"
   ]
  },
  {
   "cell_type": "code",
   "execution_count": 17,
   "id": "d3fcdef2",
   "metadata": {},
   "outputs": [
    {
     "data": {
      "image/png": "[encoded data removed]",
      "text/latex": [
       "$\\displaystyle \\left(t^{10} - 10 t^{9} + 90 t^{8} - 720 t^{7} + 5040 t^{6} - 30240 t^{5} + 151200 t^{4} - 604800 t^{3} + 1814400 t^{2} - 3628800 t + 3628800\\right) e^{t} - 1334961 e$"
      ],
      "text/plain": [
       "⎛ 10       9       8        7         6          5           4           3     ↪\n",
       "⎝t   - 10⋅t  + 90⋅t  - 720⋅t  + 5040⋅t  - 30240⋅t  + 151200⋅t  - 604800⋅t  + 1 ↪\n",
       "\n",
       "↪         2                      ⎞  t            \n",
       "↪ 814400⋅t  - 3628800⋅t + 3628800⎠⋅ℯ  - 1334961⋅ℯ"
      ]
     },
     "execution_count": 17,
     "metadata": {},
     "output_type": "execute_result"
    }
   ],
   "source": [
    "sympy.integrate(x**10*sympy.exp(x), (x, 1, t))"
   ]
  },
  {
   "cell_type": "code",
   "execution_count": 18,
   "id": "10baf591",
   "metadata": {},
   "outputs": [
    {
     "data": {
      "image/png": "[encoded data removed]",
      "text/latex": [
       "$\\displaystyle - \\frac{1}{2}$"
      ],
      "text/plain": [
       "-1/2"
      ]
     },
     "execution_count": 18,
     "metadata": {},
     "output_type": "execute_result"
    }
   ],
   "source": [
    "sympy.limit((sympy.tan(sympy.pi*(sympy.cos(x))**2))/(sympy.sin(2*sympy.pi*(sympy.sin(x))**2)) , x, 0)"
   ]
  },
  {
   "cell_type": "code",
   "execution_count": 19,
   "id": "ce96a327",
   "metadata": {},
   "outputs": [
    {
     "data": {
      "image/png": "[encoded data removed]",
      "text/latex": [
       "$\\displaystyle x + 4 = 1$"
      ],
      "text/plain": [
       "x + 4 = 1"
      ]
     },
     "execution_count": 19,
     "metadata": {},
     "output_type": "execute_result"
    }
   ],
   "source": [
    "sympy.Eq(x+4,1)"
   ]
  },
  {
   "cell_type": "code",
   "execution_count": 20,
   "id": "e9ff5ba6",
   "metadata": {},
   "outputs": [
    {
     "data": {
      "image/png": "[encoded data removed]",
      "text/latex": [
       "$\\displaystyle \\left[ - \\sqrt{2}, \\  \\sqrt{2}\\right]$"
      ],
      "text/plain": [
       "[-√2, √2]"
      ]
     },
     "execution_count": 20,
     "metadata": {},
     "output_type": "execute_result"
    }
   ],
   "source": [
    "sympy.solve(x**2 - 2,x)"
   ]
  },
  {
   "cell_type": "code",
   "execution_count": 21,
   "id": "aae1e210",
   "metadata": {},
   "outputs": [
    {
     "data": {
      "image/png": "[encoded data removed]",
      "text/latex": [
       "$\\displaystyle \\frac{1}{2}$"
      ],
      "text/plain": [
       "1/2"
      ]
     },
     "execution_count": 21,
     "metadata": {},
     "output_type": "execute_result"
    }
   ],
   "source": [
    "sympy.Rational(1,2)"
   ]
  },
  {
   "cell_type": "code",
   "execution_count": 22,
   "id": "1c3ba75f",
   "metadata": {},
   "outputs": [
    {
     "name": "stdout",
     "output_type": "stream",
     "text": [
      "[0.         0.26179939 0.52359878 0.78539816 1.04719755 1.30899694\n",
      " 1.57079633]\n"
     ]
    },
    {
     "data": {
      "text/plain": [
       "array([0.        , 0.25881905, 0.5       , 0.70710678, 0.8660254 ,\n",
       "       0.96592583, 1.        ])"
      ]
     },
     "execution_count": 22,
     "metadata": {},
     "output_type": "execute_result"
    }
   ],
   "source": [
    "a=np.linspace(0,np.pi/2,7)   # 0, pi/6 , 2pi.6 , 3pi/6 ...\n",
    "print(a)\n",
    "expr=sympy.sin(x)\n",
    "f = sympy.lambdify(x,expr,'numpy')\n",
    "f(a)"
   ]
  }
 ],
 "metadata": {
  "kernelspec": {
   "display_name": "physics",
   "language": "python",
   "name": "python3"
  },
  "language_info": {
   "codemirror_mode": {
    "name": "ipython",
    "version": 3
   },
   "file_extension": ".py",
   "mimetype": "text/x-python",
   "name": "python",
   "nbconvert_exporter": "python",
   "pygments_lexer": "ipython3",
   "version": "3.13.0"
  }
 },
 "nbformat": 4,
 "nbformat_minor": 5
}
