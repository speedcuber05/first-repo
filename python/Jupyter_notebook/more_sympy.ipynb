{
 "cells": [
  {
   "cell_type": "code",
   "execution_count": 2,
   "id": "b77ce530",
   "metadata": {},
   "outputs": [],
   "source": [
    "import numpy as np\n",
    "import sympy as smp"
   ]
  },
  {
   "cell_type": "code",
   "execution_count": 3,
   "id": "2df49d92",
   "metadata": {},
   "outputs": [],
   "source": [
    "smp.init_printing(use_unicode=True)"
   ]
  },
  {
   "cell_type": "markdown",
   "id": "dff49a68",
   "metadata": {},
   "source": [
    "### Two cars are travelling towards each other, each at a speed of 20 m/s. When the cars are 300 m apart, both drivers apply brakes and the cars decelerate (or retard) at a rate of 2 m/s^2. What is the distance between them when they come to rest?\n"
   ]
  },
  {
   "cell_type": "code",
   "execution_count": 4,
   "id": "73c72c2a",
   "metadata": {},
   "outputs": [],
   "source": [
    "v , u , a , s =smp.symbols('v u a s')"
   ]
  },
  {
   "cell_type": "code",
   "execution_count": null,
   "id": "15104b4f",
   "metadata": {},
   "outputs": [
    {
     "ename": "AttributeError",
     "evalue": "'list' object has no attribute 'subs'",
     "output_type": "error",
     "traceback": [
      "\u001b[31m---------------------------------------------------------------------------\u001b[39m",
      "\u001b[31mAttributeError\u001b[39m                            Traceback (most recent call last)",
      "\u001b[36mCell\u001b[39m\u001b[36m \u001b[39m\u001b[32mIn[19]\u001b[39m\u001b[32m, line 3\u001b[39m\n\u001b[32m      1\u001b[39m formula= smp.Eq(v**\u001b[32m2\u001b[39m - u**\u001b[32m2\u001b[39m , \u001b[32m2\u001b[39m*a*s)\n\u001b[32m      2\u001b[39m eq=smp.solve(formula,s)\n\u001b[32m----> \u001b[39m\u001b[32m3\u001b[39m \u001b[43meq\u001b[49m\u001b[43m.\u001b[49m\u001b[43msubs\u001b[49m({v:\u001b[32m0\u001b[39m,a:-\u001b[32m2\u001b[39m,u:\u001b[32m20\u001b[39m})\n",
      "\u001b[31mAttributeError\u001b[39m: 'list' object has no attribute 'subs'"
     ]
    }
   ],
   "source": [
    "formula= smp.Eq(v**2 - u**2 , 2*a*s)\n",
    "eq=smp.solve(formula,s)[0]\n",
    "eq.subs({v:0,a:-2,u:20})\n"
   ]
  },
  {
   "cell_type": "markdown",
   "id": "1b3da62c",
   "metadata": {},
   "source": [
    "### yt first problem\n"
   ]
  },
  {
   "cell_type": "markdown",
   "id": "c827adcc",
   "metadata": {},
   "source": [
    "A falling object encounters a moving platform accelerating upwards:\n",
    "1. Object: $h_o(t) = h_0 - v_0 t - \\frac{1}{2} g t^2$\n",
    "2. Platform: $h_p(t) = v_p t + \\frac{1}{2} q t^2$\n",
    "\n",
    "Find the initial velocity $v_0$ such that when the object and platform collide, they are moving at the same speed.\n",
    "\n",
    "We need to solve for $v_0$ and $t$ in the two equations:\n",
    "1. $h_o(t) = h_p(t)$\n",
    "2. $\\frac{dh_o}{dt}(t) = - \\frac{dh_p}{dt}(t)$\n",
    "\n",
    "In sympy, need to construct our system of equations as $EQ_1 = 0, EQ_2 = 0, ...$ In our case, we rewrite them as:\n",
    "1. $h_o(t) - h_p(t) = 0$\n",
    "2. $\\frac{dh_o}{dt} + \\frac{dh_p}{dt} = 0$"
   ]
  },
  {
   "cell_type": "code",
   "execution_count": 6,
   "id": "4a718a6e",
   "metadata": {},
   "outputs": [],
   "source": [
    "t, h0, v0, g, vp, q = smp.symbols('t h_0 v_0 g v_p q', real=True, positive=True)"
   ]
  },
  {
   "cell_type": "code",
   "execution_count": 7,
   "id": "202f5f6b",
   "metadata": {},
   "outputs": [],
   "source": [
    "h0t = h0 - v0*t - smp.Rational(1,2)*g*t**2\n",
    "dh0dt = g*t - v0\n",
    "hpt = vp*t + smp.Rational(1,2)*q*t**2\n",
    "dhpdt = vp + q*t"
   ]
  },
  {
   "cell_type": "code",
   "execution_count": 8,
   "id": "cae8ac8e",
   "metadata": {},
   "outputs": [],
   "source": [
    "eq1 = h0t - hpt\n",
    "eq2 = dh0dt + dhpdt"
   ]
  },
  {
   "cell_type": "code",
   "execution_count": 9,
   "id": "4509c47a",
   "metadata": {},
   "outputs": [
    {
     "data": {
      "image/png": "[encoded data removed]",
      "text/latex": [
       "$\\displaystyle \\left[ \\left( \\frac{- \\frac{2 v_{p}}{3} + \\frac{\\sqrt{2} \\sqrt{3 g h_{0} + 3 h_{0} q + 2 v_{p}^{2}}}{3}}{g + q}, \\  \\frac{v_{p}}{3} + \\frac{\\sqrt{2} \\sqrt{3 g h_{0} + 3 h_{0} q + 2 v_{p}^{2}}}{3}\\right)\\right]$"
      ],
      "text/plain": [
       "⎡⎛               _________________________                                     ↪\n",
       "⎢⎜              ╱                       2                                      ↪\n",
       "⎢⎜  2⋅vₚ   √2⋅╲╱  3⋅g⋅h₀ + 3⋅h₀⋅q + 2⋅vₚ               _______________________ ↪\n",
       "⎢⎜- ──── + ───────────────────────────────            ╱                        ↪\n",
       "⎢⎜   3                    3                 vₚ   √2⋅╲╱  3⋅g⋅h₀ + 3⋅h₀⋅q + 2⋅vₚ ↪\n",
       "⎢⎜────────────────────────────────────────, ── + ───────────────────────────── ↪\n",
       "⎣⎝                 g + q                    3                   3              ↪\n",
       "\n",
       "↪   ⎞⎤\n",
       "↪   ⎟⎥\n",
       "↪ __⎟⎥\n",
       "↪ 2 ⎟⎥\n",
       "↪   ⎟⎥\n",
       "↪ ──⎟⎥\n",
       "↪   ⎠⎦"
      ]
     },
     "execution_count": 9,
     "metadata": {},
     "output_type": "execute_result"
    }
   ],
   "source": [
    "smp.solve([eq1, eq2], [t, v0])"
   ]
  },
  {
   "cell_type": "code",
   "execution_count": 10,
   "id": "de7d4922",
   "metadata": {},
   "outputs": [],
   "source": [
    "t_collide, v_initfall = smp.solve([eq1, eq2], [t, v0])[0]"
   ]
  },
  {
   "cell_type": "code",
   "execution_count": 11,
   "id": "087483c2",
   "metadata": {},
   "outputs": [
    {
     "data": {
      "image/png": "[encoded data removed]",
      "text/latex": [
       "$\\displaystyle \\frac{g \\left(- \\frac{2 v_{p}}{3} + \\frac{\\sqrt{2} \\sqrt{3 g h_{0} + 3 h_{0} q + 2 v_{p}^{2}}}{3}\\right)}{g + q} - \\frac{v_{p}}{3} - \\frac{\\sqrt{2} \\sqrt{3 g h_{0} + 3 h_{0} q + 2 v_{p}^{2}}}{3}$"
      ],
      "text/plain": [
       "  ⎛               _________________________⎞                                   ↪\n",
       "  ⎜              ╱                       2 ⎟                                   ↪\n",
       "  ⎜  2⋅vₚ   √2⋅╲╱  3⋅g⋅h₀ + 3⋅h₀⋅q + 2⋅vₚ  ⎟              ____________________ ↪\n",
       "g⋅⎜- ──── + ───────────────────────────────⎟             ╱                     ↪\n",
       "  ⎝   3                    3               ⎠   vₚ   √2⋅╲╱  3⋅g⋅h₀ + 3⋅h₀⋅q + 2 ↪\n",
       "──────────────────────────────────────────── - ── - ────────────────────────── ↪\n",
       "                   g + q                       3                   3           ↪\n",
       "\n",
       "↪      \n",
       "↪      \n",
       "↪ _____\n",
       "↪    2 \n",
       "↪ ⋅vₚ  \n",
       "↪ ─────\n",
       "↪      "
      ]
     },
     "execution_count": 11,
     "metadata": {},
     "output_type": "execute_result"
    }
   ],
   "source": [
    "dh0dt.subs([(t,t_collide),(v0,v_initfall)])"
   ]
  },
  {
   "cell_type": "code",
   "execution_count": 12,
   "id": "8f9c1b4d",
   "metadata": {},
   "outputs": [
    {
     "data": {
      "image/png": "[encoded data removed]",
      "text/latex": [
       "$\\displaystyle \\frac{- g v_{p} - \\frac{q v_{p}}{3} - \\frac{q \\sqrt{6 g h_{0} + 6 h_{0} q + 4 v_{p}^{2}}}{3}}{g + q}$"
      ],
      "text/plain": [
       "                    _________________________\n",
       "                   ╱                       2 \n",
       "        q⋅vₚ   q⋅╲╱  6⋅g⋅h₀ + 6⋅h₀⋅q + 4⋅vₚ  \n",
       "-g⋅vₚ - ──── - ──────────────────────────────\n",
       "         3                   3               \n",
       "─────────────────────────────────────────────\n",
       "                    g + q                    "
      ]
     },
     "execution_count": 12,
     "metadata": {},
     "output_type": "execute_result"
    }
   ],
   "source": [
    "dh0dt.subs([(t,t_collide),(v0,v_initfall)]).simplify()\n"
   ]
  },
  {
   "cell_type": "code",
   "execution_count": 13,
   "id": "962b228e",
   "metadata": {},
   "outputs": [
    {
     "data": {
      "image/png": "[encoded data removed]",
      "text/latex": [
       "$\\displaystyle \\frac{g v_{p} + \\frac{q v_{p}}{3} + \\frac{q \\sqrt{6 g h_{0} + 6 h_{0} q + 4 v_{p}^{2}}}{3}}{g + q}$"
      ],
      "text/plain": [
       "                   _________________________\n",
       "                  ╱                       2 \n",
       "       q⋅vₚ   q⋅╲╱  6⋅g⋅h₀ + 6⋅h₀⋅q + 4⋅vₚ  \n",
       "g⋅vₚ + ──── + ──────────────────────────────\n",
       "        3                   3               \n",
       "────────────────────────────────────────────\n",
       "                   g + q                    "
      ]
     },
     "execution_count": 13,
     "metadata": {},
     "output_type": "execute_result"
    }
   ],
   "source": [
    "dhpdt.subs([(t,t_collide),(v0,v_initfall)]).simplify()"
   ]
  },
  {
   "cell_type": "markdown",
   "id": "dfe210b3",
   "metadata": {},
   "source": [
    "### hydrogen wave function\n"
   ]
  },
  {
   "cell_type": "markdown",
   "id": "02c2008e",
   "metadata": {},
   "source": [
    "**Examples**\n",
    "\n",
    "The hydrogen wave function is given by\n",
    "$\\psi_{nlm}(r, \\theta, \\phi) = R_{nl}(r) Y_l^m(\\theta, \\phi)$\n",
    "\n",
    "where\n",
    "$R_{nl}(r) = \\sqrt{\\left(\\frac{2}{na}\\right)^3 \\frac{(n-l-1)!}{2n[(n+l)!]}} e^{-r/na} \\left(\\frac{2r}{na}\\right)^l L_{n-l-1}^{2l+1}(2r/na)$\n",
    "\n",
    "The mean distance from the nucleus of the electron:\n",
    "$\\langle r \\rangle = \\int_0^\\infty R_{nl}^2 r^3 dr$\n",
    "\n",
    "The standard deviation in the distance from the nucleus of the electron:\n",
    "$\\sigma = \\sqrt{\\langle r^2 \\rangle - \\langle r \\rangle^2} = \\sqrt{\\left(\\int_0^\\infty R_{nl}^2 r^4 dr\\right) - \\left(\\int_0^\\infty R_{nl}^2 r^3 dr\\right)^2}$"
   ]
  },
  {
   "cell_type": "code",
   "execution_count": 14,
   "id": "e3de934a",
   "metadata": {},
   "outputs": [],
   "source": [
    "r, a = smp.symbols('r a', real=True, positive=True)\n",
    "n, l = smp.symbols('n l', integer=True, positive=True)"
   ]
  },
  {
   "cell_type": "code",
   "execution_count": 15,
   "id": "4e379639",
   "metadata": {},
   "outputs": [
    {
     "data": {
      "image/png": "[encoded data removed]",
      "text/latex": [
       "$\\displaystyle \\frac{2 \\left(\\frac{2 r}{a n}\\right)^{l} e^{- \\frac{r}{a n}} L_{- l + n - 1}^{\\left(2 l + 1\\right)}\\left(\\frac{2 r}{a n}\\right) \\sqrt{\\left(- l + n - 1\\right)!}}{a^{\\frac{3}{2}} n^{2} \\sqrt{\\left(l + n\\right)!}}$"
      ],
      "text/plain": [
       "          -r                                                            \n",
       "       l  ───                                                           \n",
       "  ⎛2⋅r⎞   a⋅n               ⎛                     2⋅r⎞   _______________\n",
       "2⋅⎜───⎟ ⋅ℯ   ⋅assoc_laguerre⎜-l + n - 1, 2⋅l + 1, ───⎟⋅╲╱ (-l + n - 1)! \n",
       "  ⎝a⋅n⎠                     ⎝                     a⋅n⎠                  \n",
       "────────────────────────────────────────────────────────────────────────\n",
       "                           3/2  2   __________                          \n",
       "                          a   ⋅n ⋅╲╱ (l + n)!                           "
      ]
     },
     "execution_count": 15,
     "metadata": {},
     "output_type": "execute_result"
    }
   ],
   "source": [
    "R = smp.sqrt(((2/(n*a))**3)*smp.factorial(n-l-1)/(2*n*smp.factorial(n+l))) * smp.exp(-r/(n*a)) * ((2*r)/(n*a))**l * smp.assoc_laguerre(n-l-1,2*l+1,(2*r/(n*a)))\n",
    "R"
   ]
  },
  {
   "cell_type": "code",
   "execution_count": 16,
   "id": "f2f76a8d",
   "metadata": {},
   "outputs": [
    {
     "data": {
      "image/png": "[encoded data removed]",
      "text/latex": [
       "$\\displaystyle \\frac{\\sqrt{35} r^{3} e^{- \\frac{r}{4 a}}}{26880 a^{\\frac{9}{2}}}$"
      ],
      "text/plain": [
       "        -r \n",
       "        ───\n",
       "     3  4⋅a\n",
       "√35⋅r ⋅ℯ   \n",
       "───────────\n",
       "       9/2 \n",
       "26880⋅a    "
      ]
     },
     "execution_count": 16,
     "metadata": {},
     "output_type": "execute_result"
    }
   ],
   "source": [
    "R_10 = R.subs([(n,4),(l,3)])\n",
    "R_10"
   ]
  },
  {
   "cell_type": "code",
   "execution_count": 17,
   "id": "29dbaa15",
   "metadata": {},
   "outputs": [
    {
     "data": {
      "image/png": "[encoded data removed]",
      "text/latex": [
       "$\\displaystyle \\frac{25 a}{2}$"
      ],
      "text/plain": [
       "25⋅a\n",
       "────\n",
       " 2  "
      ]
     },
     "execution_count": 17,
     "metadata": {},
     "output_type": "execute_result"
    }
   ],
   "source": [
    "def compute_int(n_val, l_val, k):\n",
    "    R_nl = R.subs([(n,n_val),(l,l_val)])\n",
    "    smp.integrate(R_nl**2 * r**k, (r,0,smp.oo))\n",
    "    return smp.integrate(R_nl**2 * r**k, (r,0,smp.oo))\n",
    "compute_int(3,1,3)"
   ]
  },
  {
   "cell_type": "code",
   "execution_count": 18,
   "id": "b06a4bc6",
   "metadata": {},
   "outputs": [
    {
     "name": "stdout",
     "output_type": "stream",
     "text": [
      "[1.5, 6, 13.5, 24, 37.5, 54, 73.5, 96, 121.5]\n"
     ]
    }
   ],
   "source": [
    "\n",
    "def compute_mean_distance(n_val, l_val=0):\n",
    "    expr = compute_int(n_val,l_val,k=3)\n",
    "    expr_f = smp.lambdify([a], expr)\n",
    "    return expr_f(1)\n",
    "ns = np.arange(1,10)\n",
    "ds =[compute_mean_distance(ni) for ni in ns]\n",
    "print(ds)"
   ]
  }
 ],
 "metadata": {
  "kernelspec": {
   "display_name": "physics",
   "language": "python",
   "name": "python3"
  },
  "language_info": {
   "codemirror_mode": {
    "name": "ipython",
    "version": 3
   },
   "file_extension": ".py",
   "mimetype": "text/x-python",
   "name": "python",
   "nbconvert_exporter": "python",
   "pygments_lexer": "ipython3",
   "version": "3.13.0"
  }
 },
 "nbformat": 4,
 "nbformat_minor": 5
}
